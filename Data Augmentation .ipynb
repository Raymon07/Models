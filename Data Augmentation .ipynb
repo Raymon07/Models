{
 "cells": [
  {
   "cell_type": "markdown",
   "id": "25132941",
   "metadata": {},
   "source": [
    "## Classification of CIFAR-10 data with Data Augmentation"
   ]
  },
  {
   "cell_type": "markdown",
   "id": "1510c0b1",
   "metadata": {},
   "source": [
    "### Step-1"
   ]
  },
  {
   "cell_type": "code",
   "execution_count": 34,
   "id": "971db878",
   "metadata": {},
   "outputs": [],
   "source": [
    "from __future__ import print_function\n",
    "import keras\n",
    "from keras.datasets import cifar10\n",
    "from keras.preprocessing.image import ImageDataGenerator\n",
    "from keras.models import Sequential\n",
    "from keras.layers import Dense, Dropout, Activation, Flatten, Conv2D, MaxPooling2D\n",
    "from keras.utils import np_utils\n",
    "from tensorflow.keras.optimizers import RMSprop\n",
    "import matplotlib.pyplot as plt\n",
    "from matplotlib.pyplot import figure\n",
    "%matplotlib inline"
   ]
  },
  {
   "cell_type": "markdown",
   "id": "62305915",
   "metadata": {},
   "source": [
    "### Step-2"
   ]
  },
  {
   "cell_type": "code",
   "execution_count": 2,
   "id": "de38ef09",
   "metadata": {},
   "outputs": [
    {
     "name": "stdout",
     "output_type": "stream",
     "text": [
      "A local file was found, but it seems to be incomplete or outdated because the auto file hash does not match the original value of 6d958be074577803d12ecdefd02955f39262c83c16fe9348329d7fe0b5c001ce so we will re-download the data.\n",
      "Downloading data from https://www.cs.toronto.edu/~kriz/cifar-10-python.tar.gz\n",
      "170498071/170498071 [==============================] - 1451s 9us/step\n"
     ]
    }
   ],
   "source": [
    "(x_train, y_train), (x_test,y_test) = cifar10.load_data()"
   ]
  },
  {
   "cell_type": "code",
   "execution_count": 3,
   "id": "87862438",
   "metadata": {},
   "outputs": [
    {
     "name": "stdout",
     "output_type": "stream",
     "text": [
      "x_train.shape: (50000, 32, 32, 3)\n",
      "50000 train samples\n",
      "10000 test samples\n"
     ]
    }
   ],
   "source": [
    "print('x_train.shape:', x_train.shape)\n",
    "print(x_train.shape[0], 'train samples')\n",
    "print(x_test.shape[0], 'test samples')"
   ]
  },
  {
   "cell_type": "code",
   "execution_count": 4,
   "id": "90760867",
   "metadata": {},
   "outputs": [
    {
     "data": {
      "text/plain": [
       "(32, 32, 3)"
      ]
     },
     "execution_count": 4,
     "metadata": {},
     "output_type": "execute_result"
    }
   ],
   "source": [
    "x_train[444].shape"
   ]
  },
  {
   "cell_type": "markdown",
   "id": "1e2046f4",
   "metadata": {},
   "source": [
    "### Step-3"
   ]
  },
  {
   "cell_type": "code",
   "execution_count": 5,
   "id": "4997c36f",
   "metadata": {},
   "outputs": [],
   "source": [
    "num_classes=10\n",
    "y_train=keras.utils.np_utils.to_categorical(y_train,num_classes)\n",
    "y_test=keras.utils.np_utils.to_categorical(y_test,num_classes)"
   ]
  },
  {
   "cell_type": "code",
   "execution_count": 6,
   "id": "cf2d784b",
   "metadata": {},
   "outputs": [
    {
     "data": {
      "text/plain": [
       "array([0., 0., 0., 0., 0., 0., 0., 0., 0., 1.], dtype=float32)"
      ]
     },
     "execution_count": 6,
     "metadata": {},
     "output_type": "execute_result"
    }
   ],
   "source": [
    "y_train[444]"
   ]
  },
  {
   "cell_type": "markdown",
   "id": "c6ae4de8",
   "metadata": {},
   "source": [
    "### Step-4"
   ]
  },
  {
   "cell_type": "code",
   "execution_count": 8,
   "id": "66a10ab9",
   "metadata": {},
   "outputs": [],
   "source": [
    "x_train=x_train.astype('float32')\n",
    "x_test=x_test.astype('float32')\n",
    "x_train /= 255\n",
    "x_test /= 255"
   ]
  },
  {
   "cell_type": "markdown",
   "id": "e4f07ec8",
   "metadata": {},
   "source": [
    "### Step-5"
   ]
  },
  {
   "cell_type": "code",
   "execution_count": 26,
   "id": "2e25a014",
   "metadata": {},
   "outputs": [
    {
     "name": "stdout",
     "output_type": "stream",
     "text": [
      "Model: \"sequential_4\"\n",
      "_________________________________________________________________\n",
      " Layer (type)                Output Shape              Param #   \n",
      "=================================================================\n",
      " conv2d_10 (Conv2D)          (None, 16, 16, 32)        2432      \n",
      "                                                                 \n",
      " activation_16 (Activation)  (None, 16, 16, 32)        0         \n",
      "                                                                 \n",
      " conv2d_11 (Conv2D)          (None, 6, 6, 32)          25632     \n",
      "                                                                 \n",
      " activation_17 (Activation)  (None, 6, 6, 32)          0         \n",
      "                                                                 \n",
      " max_pooling2d_5 (MaxPooling  (None, 3, 3, 32)         0         \n",
      " 2D)                                                             \n",
      "                                                                 \n",
      " dropout_6 (Dropout)         (None, 3, 3, 32)          0         \n",
      "                                                                 \n",
      " flatten_4 (Flatten)         (None, 288)               0         \n",
      "                                                                 \n",
      " dense_8 (Dense)             (None, 512)               147968    \n",
      "                                                                 \n",
      " activation_18 (Activation)  (None, 512)               0         \n",
      "                                                                 \n",
      " dropout_7 (Dropout)         (None, 512)               0         \n",
      "                                                                 \n",
      " dense_9 (Dense)             (None, 10)                5130      \n",
      "                                                                 \n",
      " activation_19 (Activation)  (None, 10)                0         \n",
      "                                                                 \n",
      "=================================================================\n",
      "Total params: 181,162\n",
      "Trainable params: 181,162\n",
      "Non-trainable params: 0\n",
      "_________________________________________________________________\n"
     ]
    }
   ],
   "source": [
    "model=Sequential()\n",
    "model.add(Conv2D(32, (5,5), strides=(2,2),padding='same',input_shape=x_train.shape[1:]))\n",
    "model.add(Activation('relu'))\n",
    "\n",
    "model.add(Conv2D(32,(5,5),strides=(2,2)))\n",
    "model.add(Activation('relu'))\n",
    "\n",
    "model.add(MaxPooling2D(pool_size=(2,2)))\n",
    "model.add(Dropout(0.25))\n",
    "\n",
    "model.add(Flatten())\n",
    "model.add(Dense(512))\n",
    "model.add(Activation('relu'))\n",
    "model.add(Dropout(.5))\n",
    "model.add(Dense(num_classes))\n",
    "model.add(Activation('softmax'))\n",
    "\n",
    "model.summary()"
   ]
  },
  {
   "cell_type": "markdown",
   "id": "2de9afe1",
   "metadata": {},
   "source": [
    "### Step-6"
   ]
  },
  {
   "cell_type": "code",
   "execution_count": 27,
   "id": "10296eb1",
   "metadata": {},
   "outputs": [],
   "source": [
    "batch_size=32\n",
    "\n",
    "opt=keras.optimizers.RMSprop(lr=.0005,decay=1e-6)\n",
    "\n",
    "model.compile(loss='categorical_crossentropy',\n",
    "               optimizer=opt,\n",
    "               metrics=['accuracy'])"
   ]
  },
  {
   "cell_type": "code",
   "execution_count": 28,
   "id": "74047419",
   "metadata": {},
   "outputs": [
    {
     "name": "stdout",
     "output_type": "stream",
     "text": [
      "Epoch 1/15\n",
      "1563/1563 [==============================] - 11s 7ms/step - loss: 1.7431 - accuracy: 0.3622 - val_loss: 1.4641 - val_accuracy: 0.4756\n",
      "Epoch 2/15\n",
      "1563/1563 [==============================] - 10s 7ms/step - loss: 1.4608 - accuracy: 0.4718 - val_loss: 1.3406 - val_accuracy: 0.5220\n",
      "Epoch 3/15\n",
      "1563/1563 [==============================] - 10s 7ms/step - loss: 1.3568 - accuracy: 0.5108 - val_loss: 1.2180 - val_accuracy: 0.5698\n",
      "Epoch 4/15\n",
      "1563/1563 [==============================] - 10s 6ms/step - loss: 1.2914 - accuracy: 0.5386 - val_loss: 1.1850 - val_accuracy: 0.5789\n",
      "Epoch 5/15\n",
      "1563/1563 [==============================] - 10s 6ms/step - loss: 1.2496 - accuracy: 0.5569 - val_loss: 1.1600 - val_accuracy: 0.5938\n",
      "Epoch 6/15\n",
      "1563/1563 [==============================] - 10s 6ms/step - loss: 1.2207 - accuracy: 0.5698 - val_loss: 1.1704 - val_accuracy: 0.5819\n",
      "Epoch 7/15\n",
      "1563/1563 [==============================] - 10s 6ms/step - loss: 1.1953 - accuracy: 0.5789 - val_loss: 1.1288 - val_accuracy: 0.6011\n",
      "Epoch 8/15\n",
      "1563/1563 [==============================] - 10s 6ms/step - loss: 1.1736 - accuracy: 0.5884 - val_loss: 1.0903 - val_accuracy: 0.6164\n",
      "Epoch 9/15\n",
      "1563/1563 [==============================] - 10s 6ms/step - loss: 1.1585 - accuracy: 0.5929 - val_loss: 1.1268 - val_accuracy: 0.6057\n",
      "Epoch 10/15\n",
      "1563/1563 [==============================] - 10s 6ms/step - loss: 1.1423 - accuracy: 0.6010 - val_loss: 1.1051 - val_accuracy: 0.6113\n",
      "Epoch 11/15\n",
      "1563/1563 [==============================] - 10s 6ms/step - loss: 1.1296 - accuracy: 0.6066 - val_loss: 1.1538 - val_accuracy: 0.6012\n",
      "Epoch 12/15\n",
      "1563/1563 [==============================] - 10s 6ms/step - loss: 1.1174 - accuracy: 0.6112 - val_loss: 1.1159 - val_accuracy: 0.6087\n",
      "Epoch 13/15\n",
      "1563/1563 [==============================] - 15s 9ms/step - loss: 1.1173 - accuracy: 0.6121 - val_loss: 1.0803 - val_accuracy: 0.6193\n",
      "Epoch 14/15\n",
      "1563/1563 [==============================] - 11s 7ms/step - loss: 1.1110 - accuracy: 0.6169 - val_loss: 1.0593 - val_accuracy: 0.6373\n",
      "Epoch 15/15\n",
      "1563/1563 [==============================] - 10s 6ms/step - loss: 1.1096 - accuracy: 0.6209 - val_loss: 1.1301 - val_accuracy: 0.6220\n"
     ]
    }
   ],
   "source": [
    "history=model.fit(x_train,y_train,batch_size=32,epochs=15,validation_data=(x_test,y_test))"
   ]
  },
  {
   "cell_type": "markdown",
   "id": "8c4d3e7f",
   "metadata": {},
   "source": [
    "### Step-7"
   ]
  },
  {
   "cell_type": "code",
   "execution_count": 29,
   "id": "e32de349",
   "metadata": {},
   "outputs": [
    {
     "name": "stdout",
     "output_type": "stream",
     "text": [
      "Model: \"sequential_5\"\n",
      "_________________________________________________________________\n",
      " Layer (type)                Output Shape              Param #   \n",
      "=================================================================\n",
      " conv2d_12 (Conv2D)          (None, 16, 16, 32)        2432      \n",
      "                                                                 \n",
      " activation_20 (Activation)  (None, 16, 16, 32)        0         \n",
      "                                                                 \n",
      " conv2d_13 (Conv2D)          (None, 6, 6, 32)          25632     \n",
      "                                                                 \n",
      " activation_21 (Activation)  (None, 6, 6, 32)          0         \n",
      "                                                                 \n",
      " max_pooling2d_6 (MaxPooling  (None, 3, 3, 32)         0         \n",
      " 2D)                                                             \n",
      "                                                                 \n",
      " dropout_8 (Dropout)         (None, 3, 3, 32)          0         \n",
      "                                                                 \n",
      " flatten_5 (Flatten)         (None, 288)               0         \n",
      "                                                                 \n",
      " dense_10 (Dense)            (None, 512)               147968    \n",
      "                                                                 \n",
      " activation_22 (Activation)  (None, 512)               0         \n",
      "                                                                 \n",
      " dropout_9 (Dropout)         (None, 512)               0         \n",
      "                                                                 \n",
      " dense_11 (Dense)            (None, 10)                5130      \n",
      "                                                                 \n",
      " activation_23 (Activation)  (None, 10)                0         \n",
      "                                                                 \n",
      "=================================================================\n",
      "Total params: 181,162\n",
      "Trainable params: 181,162\n",
      "Non-trainable params: 0\n",
      "_________________________________________________________________\n"
     ]
    }
   ],
   "source": [
    "model1=Sequential()\n",
    "model1.add(Conv2D(32, (5,5), strides=(2,2),padding='same',input_shape=x_train.shape[1:]))\n",
    "model1.add(Activation('relu'))\n",
    "\n",
    "model1.add(Conv2D(32,(5,5),strides=(2,2)))\n",
    "model1.add(Activation('relu'))\n",
    "\n",
    "model1.add(MaxPooling2D(pool_size=(2,2)))\n",
    "model1.add(Dropout(0.25))\n",
    "\n",
    "model1.add(Flatten())\n",
    "model1.add(Dense(512))\n",
    "model1.add(Activation('relu'))\n",
    "model1.add(Dropout(.5))\n",
    "model1.add(Dense(num_classes))\n",
    "model1.add(Activation('softmax'))\n",
    "\n",
    "model1.summary()"
   ]
  },
  {
   "cell_type": "code",
   "execution_count": 30,
   "id": "b4c74836",
   "metadata": {},
   "outputs": [],
   "source": [
    "datagen=ImageDataGenerator(featurewise_center=False,\n",
    "                           samplewise_center=False,\n",
    "                           featurewise_std_normalization=False,\n",
    "                           samplewise_std_normalization=False,\n",
    "                           zca_whitening=False,\n",
    "                           rotation_range=0,\n",
    "                           width_shift_range=0.1,\n",
    "                           height_shift_range=0.1,\n",
    "                           horizontal_flip=True,\n",
    "                           vertical_flip=False,)\n",
    "\n",
    "datagen.fit(x_train)"
   ]
  },
  {
   "cell_type": "code",
   "execution_count": 31,
   "id": "b14a7369",
   "metadata": {},
   "outputs": [],
   "source": [
    "batch_size=32\n",
    "\n",
    "opt=keras.optimizers.RMSprop(lr=.0005,decay=1e-6)\n",
    "\n",
    "model1.compile(loss='categorical_crossentropy',\n",
    "               optimizer=opt,\n",
    "               metrics=['accuracy'])"
   ]
  },
  {
   "cell_type": "code",
   "execution_count": 32,
   "id": "dd22b3b7",
   "metadata": {},
   "outputs": [
    {
     "name": "stdout",
     "output_type": "stream",
     "text": [
      "Epoch 1/15\n"
     ]
    },
    {
     "name": "stderr",
     "output_type": "stream",
     "text": [
      "C:\\Users\\2mscdsa45\\AppData\\Local\\Temp\\ipykernel_7780\\2152443736.py:1: UserWarning: `Model.fit_generator` is deprecated and will be removed in a future version. Please use `Model.fit`, which supports generators.\n",
      "  history1=model1.fit_generator(datagen.flow(x_train,y_train,batch_size=batch_size),\n"
     ]
    },
    {
     "name": "stdout",
     "output_type": "stream",
     "text": [
      "1562/1562 [==============================] - 16s 10ms/step - loss: 1.7703 - accuracy: 0.3495 - val_loss: 1.4927 - val_accuracy: 0.4567\n",
      "Epoch 2/15\n",
      "1562/1562 [==============================] - 15s 10ms/step - loss: 1.5185 - accuracy: 0.4520 - val_loss: 1.2846 - val_accuracy: 0.5371\n",
      "Epoch 3/15\n",
      "1562/1562 [==============================] - 15s 9ms/step - loss: 1.4302 - accuracy: 0.4855 - val_loss: 1.2301 - val_accuracy: 0.5578\n",
      "Epoch 4/15\n",
      "1562/1562 [==============================] - 15s 9ms/step - loss: 1.3682 - accuracy: 0.5109 - val_loss: 1.1792 - val_accuracy: 0.5812\n",
      "Epoch 5/15\n",
      "1562/1562 [==============================] - 15s 9ms/step - loss: 1.3311 - accuracy: 0.5228 - val_loss: 1.1217 - val_accuracy: 0.6031\n",
      "Epoch 6/15\n",
      "1562/1562 [==============================] - 15s 9ms/step - loss: 1.3062 - accuracy: 0.5362 - val_loss: 1.1508 - val_accuracy: 0.5964\n",
      "Epoch 7/15\n",
      "1562/1562 [==============================] - 15s 9ms/step - loss: 1.2839 - accuracy: 0.5442 - val_loss: 1.1537 - val_accuracy: 0.5899\n",
      "Epoch 8/15\n",
      "1562/1562 [==============================] - 15s 10ms/step - loss: 1.2708 - accuracy: 0.5514 - val_loss: 1.1180 - val_accuracy: 0.6032\n",
      "Epoch 9/15\n",
      "1562/1562 [==============================] - 15s 9ms/step - loss: 1.2586 - accuracy: 0.5574 - val_loss: 1.1970 - val_accuracy: 0.5917\n",
      "Epoch 10/15\n",
      "1562/1562 [==============================] - 15s 9ms/step - loss: 1.2540 - accuracy: 0.5612 - val_loss: 1.1091 - val_accuracy: 0.6188\n",
      "Epoch 11/15\n",
      "1562/1562 [==============================] - 14s 9ms/step - loss: 1.2550 - accuracy: 0.5617 - val_loss: 1.1474 - val_accuracy: 0.6040\n",
      "Epoch 12/15\n",
      "1562/1562 [==============================] - 15s 9ms/step - loss: 1.2497 - accuracy: 0.5666 - val_loss: 1.2371 - val_accuracy: 0.5635\n",
      "Epoch 13/15\n",
      "1562/1562 [==============================] - 15s 9ms/step - loss: 1.2488 - accuracy: 0.5680 - val_loss: 1.1017 - val_accuracy: 0.6204\n",
      "Epoch 14/15\n",
      "1562/1562 [==============================] - 15s 9ms/step - loss: 1.2511 - accuracy: 0.5674 - val_loss: 1.1050 - val_accuracy: 0.6335\n",
      "Epoch 15/15\n",
      "1562/1562 [==============================] - 14s 9ms/step - loss: 1.2499 - accuracy: 0.5681 - val_loss: 1.1192 - val_accuracy: 0.6056\n"
     ]
    }
   ],
   "source": [
    "history1=model1.fit_generator(datagen.flow(x_train,y_train,batch_size=batch_size),\n",
    "                   steps_per_epoch=x_train.shape[0] // batch_size,\n",
    "                   epochs=15,\n",
    "                   validation_data=(x_test,y_test))"
   ]
  },
  {
   "cell_type": "markdown",
   "id": "6818673b",
   "metadata": {},
   "source": [
    "### Step-8"
   ]
  },
  {
   "cell_type": "code",
   "execution_count": 37,
   "id": "88972403",
   "metadata": {},
   "outputs": [
    {
     "data": {
      "image/png": "[encoded data removed]",
      "text/plain": [
       "<Figure size 720x288 with 1 Axes>"
      ]
     },
     "metadata": {
      "needs_background": "light"
     },
     "output_type": "display_data"
    }
   ],
   "source": [
    "figure(figsize=(10, 4))\n",
    "plt.plot(history.history['accuracy'])\n",
    "plt.plot(history1.history['accuracy'])\n",
    "plt.title('model accuracy')\n",
    "plt.ylabel('accuracy')\n",
    "plt.xlabel('epoch')\n",
    "plt.legend(['Normal CNN', 'CNN with Data Augumentation'], loc='upper left')\n",
    "plt.show()"
   ]
  },
  {
   "cell_type": "code",
   "execution_count": null,
   "id": "9cce13b5",
   "metadata": {},
   "outputs": [],
   "source": []
  },
  {
   "cell_type": "code",
   "execution_count": null,
   "id": "a57073c1",
   "metadata": {},
   "outputs": [],
   "source": []
  },
  {
   "cell_type": "code",
   "execution_count": 38,
   "id": "360f38af",
   "metadata": {},
   "outputs": [],
   "source": [
    "datagen=ImageDataGenerator(featurewise_center=False,\n",
    "                           samplewise_center=False,\n",
    "                           featurewise_std_normalization=False,\n",
    "                           samplewise_std_normalization=False,\n",
    "                           zca_whitening=False,\n",
    "                           rotation_range=0.2,\n",
    "                           width_shift_range=0.2,\n",
    "                           height_shift_range=0.2,\n",
    "                           horizontal_flip=False,\n",
    "                           vertical_flip=True)\n",
    "\n",
    "datagen.fit(x_train)"
   ]
  },
  {
   "cell_type": "code",
   "execution_count": 39,
   "id": "f6febfde",
   "metadata": {},
   "outputs": [],
   "source": [
    "batch_size=32\n",
    "\n",
    "opt=keras.optimizers.RMSprop(lr=.0005,decay=1e-6)\n",
    "\n",
    "model1.compile(loss='categorical_crossentropy',\n",
    "               optimizer=opt,\n",
    "               metrics=['accuracy'])"
   ]
  },
  {
   "cell_type": "code",
   "execution_count": 40,
   "id": "849c4433",
   "metadata": {},
   "outputs": [
    {
     "name": "stdout",
     "output_type": "stream",
     "text": [
      "Epoch 1/10\n"
     ]
    },
    {
     "name": "stderr",
     "output_type": "stream",
     "text": [
      "C:\\Users\\2mscdsa45\\AppData\\Local\\Temp\\ipykernel_7780\\3948953035.py:1: UserWarning: `Model.fit_generator` is deprecated and will be removed in a future version. Please use `Model.fit`, which supports generators.\n",
      "  model1.fit_generator(datagen.flow(x_train,y_train,batch_size=batch_size),\n"
     ]
    },
    {
     "name": "stdout",
     "output_type": "stream",
     "text": [
      "1562/1562 [==============================] - 16s 10ms/step - loss: 1.6510 - accuracy: 0.4127 - val_loss: 1.2547 - val_accuracy: 0.5631\n",
      "Epoch 2/10\n",
      "1562/1562 [==============================] - 16s 10ms/step - loss: 1.6124 - accuracy: 0.4288 - val_loss: 1.2565 - val_accuracy: 0.5538\n",
      "Epoch 3/10\n",
      "1562/1562 [==============================] - 15s 10ms/step - loss: 1.6003 - accuracy: 0.4335 - val_loss: 1.4211 - val_accuracy: 0.5364\n",
      "Epoch 4/10\n",
      "1562/1562 [==============================] - 15s 10ms/step - loss: 1.5969 - accuracy: 0.4389 - val_loss: 1.3693 - val_accuracy: 0.5326\n",
      "Epoch 5/10\n",
      "1562/1562 [==============================] - 15s 10ms/step - loss: 1.5884 - accuracy: 0.4375 - val_loss: 1.2777 - val_accuracy: 0.5481\n",
      "Epoch 6/10\n",
      "1562/1562 [==============================] - 15s 10ms/step - loss: 1.5831 - accuracy: 0.4403 - val_loss: 1.3362 - val_accuracy: 0.5319\n",
      "Epoch 7/10\n",
      "1562/1562 [==============================] - 15s 10ms/step - loss: 1.5944 - accuracy: 0.4365 - val_loss: 1.3135 - val_accuracy: 0.5417\n",
      "Epoch 8/10\n",
      "1562/1562 [==============================] - 15s 10ms/step - loss: 1.5962 - accuracy: 0.4380 - val_loss: 1.3304 - val_accuracy: 0.5449\n",
      "Epoch 9/10\n",
      "1562/1562 [==============================] - 15s 10ms/step - loss: 1.5955 - accuracy: 0.4389 - val_loss: 1.3502 - val_accuracy: 0.5328\n",
      "Epoch 10/10\n",
      "1562/1562 [==============================] - 16s 10ms/step - loss: 1.6013 - accuracy: 0.4372 - val_loss: 1.3895 - val_accuracy: 0.5237\n"
     ]
    },
    {
     "data": {
      "text/plain": [
       "<keras.callbacks.History at 0x18a660a8970>"
      ]
     },
     "execution_count": 40,
     "metadata": {},
     "output_type": "execute_result"
    }
   ],
   "source": [
    "model1.fit_generator(datagen.flow(x_train,y_train,batch_size=batch_size),\n",
    "                   steps_per_epoch=x_train.shape[0] // batch_size,\n",
    "                   epochs=10,\n",
    "                   validation_data=(x_test,y_test))"
   ]
  },
  {
   "cell_type": "markdown",
   "id": "f8bbf932",
   "metadata": {},
   "source": [
    " If we change any values in Datagen. It will be worse"
   ]
  },
  {
   "cell_type": "markdown",
   "id": "a837db3e",
   "metadata": {},
   "source": [
    "### Step-9"
   ]
  },
  {
   "cell_type": "code",
   "execution_count": 17,
   "id": "62c554fa",
   "metadata": {},
   "outputs": [
    {
     "name": "stdout",
     "output_type": "stream",
     "text": [
      "Model: \"sequential_2\"\n",
      "_________________________________________________________________\n",
      " Layer (type)                Output Shape              Param #   \n",
      "=================================================================\n",
      " conv2d_4 (Conv2D)           (None, 32, 32, 32)        2432      \n",
      "                                                                 \n",
      " conv2d_5 (Conv2D)           (None, 28, 28, 32)        25632     \n",
      "                                                                 \n",
      " activation_8 (Activation)   (None, 28, 28, 32)        0         \n",
      "                                                                 \n",
      " max_pooling2d_2 (MaxPooling  (None, 14, 14, 32)       0         \n",
      " 2D)                                                             \n",
      "                                                                 \n",
      " conv2d_6 (Conv2D)           (None, 14, 14, 32)        25632     \n",
      "                                                                 \n",
      " conv2d_7 (Conv2D)           (None, 10, 10, 32)        25632     \n",
      "                                                                 \n",
      " activation_9 (Activation)   (None, 10, 10, 32)        0         \n",
      "                                                                 \n",
      " max_pooling2d_3 (MaxPooling  (None, 5, 5, 32)         0         \n",
      " 2D)                                                             \n",
      "                                                                 \n",
      " flatten_2 (Flatten)         (None, 800)               0         \n",
      "                                                                 \n",
      " dense_4 (Dense)             (None, 512)               410112    \n",
      "                                                                 \n",
      " activation_10 (Activation)  (None, 512)               0         \n",
      "                                                                 \n",
      " dense_5 (Dense)             (None, 10)                5130      \n",
      "                                                                 \n",
      " activation_11 (Activation)  (None, 10)                0         \n",
      "                                                                 \n",
      "=================================================================\n",
      "Total params: 494,570\n",
      "Trainable params: 494,570\n",
      "Non-trainable params: 0\n",
      "_________________________________________________________________\n"
     ]
    }
   ],
   "source": [
    "model2=Sequential()\n",
    "model2.add(Conv2D(32, (5,5), strides=(1,1),padding='same',activation='relu',input_shape=x_train.shape[1:]))\n",
    "model2.add(Conv2D(32,(5,5),strides=(1,1)))\n",
    "model2.add(Activation('relu'))\n",
    "\n",
    "model2.add(MaxPooling2D(pool_size=(2,2)))\n",
    "\n",
    "model2.add(Conv2D(32, (5,5), strides=(1,1),padding='same',activation='relu',input_shape=x_train.shape[1:]))\n",
    "model2.add(Conv2D(32,(5,5),strides=(1,1)))\n",
    "model2.add(Activation('relu'))\n",
    "\n",
    "model2.add(MaxPooling2D(pool_size=(2,2)))\n",
    "\n",
    "model2.add(Flatten())\n",
    "model2.add(Dense(512))\n",
    "model2.add(Activation('relu'))\n",
    "model2.add(Dense(num_classes))\n",
    "model2.add(Activation('softmax'))\n",
    "\n",
    "model2.summary()"
   ]
  },
  {
   "cell_type": "code",
   "execution_count": 18,
   "id": "4a23e5e9",
   "metadata": {},
   "outputs": [],
   "source": [
    "datagen=ImageDataGenerator(featurewise_center=False,\n",
    "                           samplewise_center=False,\n",
    "                           featurewise_std_normalization=False,\n",
    "                           samplewise_std_normalization=False,\n",
    "                           zca_whitening=False,\n",
    "                           rotation_range=0,\n",
    "                           width_shift_range=0.1,\n",
    "                           height_shift_range=0.1,\n",
    "                           horizontal_flip=True,\n",
    "                           vertical_flip=False,)\n",
    "\n",
    "datagen.fit(x_train)"
   ]
  },
  {
   "cell_type": "code",
   "execution_count": 19,
   "id": "ee488bff",
   "metadata": {},
   "outputs": [],
   "source": [
    "batch_size=32\n",
    "\n",
    "opt=keras.optimizers.RMSprop(lr=.0005,decay=1e-6)\n",
    "\n",
    "model2.compile(loss='categorical_crossentropy',\n",
    "               optimizer=opt,\n",
    "               metrics=['accuracy'])"
   ]
  },
  {
   "cell_type": "code",
   "execution_count": 25,
   "id": "3f0fc491",
   "metadata": {},
   "outputs": [
    {
     "name": "stdout",
     "output_type": "stream",
     "text": [
      "Epoch 1/10\n",
      "1562/1562 [==============================] - 117s 75ms/step - loss: 1.2376 - accuracy: 0.5578 - val_loss: 1.0635 - val_accuracy: 0.6275\n",
      "Epoch 2/10\n",
      "1562/1562 [==============================] - 116s 74ms/step - loss: 1.0848 - accuracy: 0.6144 - val_loss: 0.9661 - val_accuracy: 0.6627\n",
      "Epoch 3/10\n",
      "1562/1562 [==============================] - 116s 74ms/step - loss: 0.9879 - accuracy: 0.6520 - val_loss: 0.9280 - val_accuracy: 0.6822\n",
      "Epoch 4/10\n",
      "1562/1562 [==============================] - 114s 73ms/step - loss: 0.9133 - accuracy: 0.6820 - val_loss: 0.8757 - val_accuracy: 0.7108\n",
      "Epoch 5/10\n",
      "1562/1562 [==============================] - 115s 74ms/step - loss: 0.8772 - accuracy: 0.6949 - val_loss: 0.8063 - val_accuracy: 0.7200\n",
      "Epoch 6/10\n",
      "1562/1562 [==============================] - 118s 75ms/step - loss: 0.8514 - accuracy: 0.7049 - val_loss: 0.8025 - val_accuracy: 0.7232\n",
      "Epoch 7/10\n",
      "1562/1562 [==============================] - 116s 74ms/step - loss: 0.8320 - accuracy: 0.7153 - val_loss: 0.8747 - val_accuracy: 0.7005\n",
      "Epoch 8/10\n",
      "1562/1562 [==============================] - 117s 75ms/step - loss: 0.8274 - accuracy: 0.7163 - val_loss: 0.8642 - val_accuracy: 0.7098\n",
      "Epoch 9/10\n",
      "1562/1562 [==============================] - 116s 74ms/step - loss: 0.8157 - accuracy: 0.7235 - val_loss: 0.8324 - val_accuracy: 0.7254\n",
      "Epoch 10/10\n",
      "1562/1562 [==============================] - 117s 75ms/step - loss: 0.8087 - accuracy: 0.7225 - val_loss: 0.9228 - val_accuracy: 0.7032\n"
     ]
    },
    {
     "data": {
      "text/plain": [
       "<keras.callbacks.History at 0x18a655a1d00>"
      ]
     },
     "execution_count": 25,
     "metadata": {},
     "output_type": "execute_result"
    }
   ],
   "source": [
    "model2.fit(datagen.flow(x_train,y_train,batch_size=batch_size),\n",
    "                   steps_per_epoch=x_train.shape[0] // batch_size,\n",
    "                   epochs=10,\n",
    "                   validation_data=(x_test,y_test))"
   ]
  },
  {
   "cell_type": "code",
   "execution_count": null,
   "id": "4b4291aa",
   "metadata": {},
   "outputs": [],
   "source": []
  }
 ],
 "metadata": {
  "kernelspec": {
   "display_name": "Python 3 (ipykernel)",
   "language": "python",
   "name": "python3"
  },
  "language_info": {
   "codemirror_mode": {
    "name": "ipython",
    "version": 3
   },
   "file_extension": ".py",
   "mimetype": "text/x-python",
   "name": "python",
   "nbconvert_exporter": "python",
   "pygments_lexer": "ipython3",
   "version": "3.9.12"
  }
 },
 "nbformat": 4,
 "nbformat_minor": 5
}
