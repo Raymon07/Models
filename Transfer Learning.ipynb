{
 "cells": [
  {
   "cell_type": "markdown",
   "id": "447f554a",
   "metadata": {},
   "source": [
    "## Image corpus creation and Transfer Learning in CNN"
   ]
  },
  {
   "cell_type": "markdown",
   "id": "7a13d03b",
   "metadata": {},
   "source": [
    "##### 1. Import the necessary libraries"
   ]
  },
  {
   "cell_type": "code",
   "execution_count": 1,
   "id": "6aa5eaa5",
   "metadata": {},
   "outputs": [],
   "source": [
    "import datetime\n",
    "import keras\n",
    "from keras.datasets import mnist\n",
    "from keras.models import Sequential\n",
    "from keras.layers import Dense, Dropout, Activation, Flatten\n",
    "from keras.layers import Conv2D, MaxPooling2D\n",
    "from tensorflow.keras.optimizers import RMSprop,SGD,Adam"
   ]
  },
  {
   "cell_type": "markdown",
   "id": "be608a31",
   "metadata": {},
   "source": [
    "##### 2. Initialize some parameters"
   ]
  },
  {
   "cell_type": "code",
   "execution_count": 2,
   "id": "383e2224",
   "metadata": {},
   "outputs": [],
   "source": [
    "now = datetime.datetime.now\n",
    "batch_size = 128\n",
    "num_classes = 5\n",
    "epochs = 5\n",
    "\n",
    "img_rows, img_cols =28,28\n",
    "filters = 32\n",
    "pool_size = 2\n",
    "kernel_size = 3"
   ]
  },
  {
   "cell_type": "markdown",
   "id": "2747c54c",
   "metadata": {},
   "source": [
    "##### 3. Partition MNIST dataset"
   ]
  },
  {
   "cell_type": "code",
   "execution_count": 3,
   "id": "1686fc31",
   "metadata": {},
   "outputs": [],
   "source": [
    "(x_train, y_train), (x_test, y_test) = mnist.load_data()\n",
    "\n",
    "x_train_1t5 = x_train[y_train < 5]\n",
    "y_train_1t5 = y_train[y_train < 5]\n",
    "x_test_1t5 = x_test[y_test < 5]\n",
    "y_test_1t5 = y_test[y_test < 5]\n",
    "\n",
    "x_train_gte5 = x_train[y_train >= 5]\n",
    "y_train_gte5 = y_train[y_train >= 5] - 5\n",
    "x_test_gte5 = x_test[y_test >= 5]\n",
    "y_test_gte5 = y_test[y_test >= 5] - 5"
   ]
  },
  {
   "cell_type": "code",
   "execution_count": 4,
   "id": "3e2cadec",
   "metadata": {},
   "outputs": [
    {
     "name": "stdout",
     "output_type": "stream",
     "text": [
      "(30596, 28, 28)\n",
      "(5139, 28, 28)\n"
     ]
    }
   ],
   "source": [
    "print(x_train_1t5.shape)\n",
    "print(x_test_1t5.shape)"
   ]
  },
  {
   "cell_type": "code",
   "execution_count": 5,
   "id": "92fc3842",
   "metadata": {},
   "outputs": [
    {
     "name": "stdout",
     "output_type": "stream",
     "text": [
      "(29404, 28, 28)\n",
      "(4861, 28, 28)\n"
     ]
    }
   ],
   "source": [
    "print(x_train_gte5.shape)\n",
    "print(x_test_gte5.shape)"
   ]
  },
  {
   "cell_type": "markdown",
   "id": "de7ac58e",
   "metadata": {},
   "source": [
    "##### 4. Define the feature layers"
   ]
  },
  {
   "cell_type": "code",
   "execution_count": 6,
   "id": "1b77c679",
   "metadata": {},
   "outputs": [],
   "source": [
    "Input_Shape = (28,28,1)\n",
    "model = Sequential()\n",
    "feature_layers=[Conv2D(filters=filters,kernel_size=kernel_size,activation='relu',padding='same',input_shape=Input_Shape),\n",
    "                Conv2D(filters=filters,kernel_size=kernel_size,activation='relu',input_shape=Input_Shape),\n",
    "                MaxPooling2D(pool_size=pool_size),\n",
    "                Dropout(0.5),\n",
    "                Flatten()]"
   ]
  },
  {
   "cell_type": "markdown",
   "id": "f897a82b",
   "metadata": {},
   "source": [
    "##### 5. Define the classification layers"
   ]
  },
  {
   "cell_type": "code",
   "execution_count": 7,
   "id": "55512aff",
   "metadata": {},
   "outputs": [],
   "source": [
    "classification_layers = [Dense(128,activation='relu'),\n",
    "                         Dropout(0.5),\n",
    "                         Dense(num_classes,activation='softmax')]"
   ]
  },
  {
   "cell_type": "markdown",
   "id": "66ec2312",
   "metadata": {},
   "source": [
    "##### 6. Define a sequential model"
   ]
  },
  {
   "cell_type": "code",
   "execution_count": 8,
   "id": "873e950a",
   "metadata": {},
   "outputs": [
    {
     "name": "stdout",
     "output_type": "stream",
     "text": [
      "Model: \"sequential_1\"\n",
      "_________________________________________________________________\n",
      " Layer (type)                Output Shape              Param #   \n",
      "=================================================================\n",
      " conv2d (Conv2D)             (None, 28, 28, 32)        320       \n",
      "                                                                 \n",
      " conv2d_1 (Conv2D)           (None, 26, 26, 32)        9248      \n",
      "                                                                 \n",
      " max_pooling2d (MaxPooling2D  (None, 13, 13, 32)       0         \n",
      " )                                                               \n",
      "                                                                 \n",
      " dropout (Dropout)           (None, 13, 13, 32)        0         \n",
      "                                                                 \n",
      " flatten (Flatten)           (None, 5408)              0         \n",
      "                                                                 \n",
      " dense (Dense)               (None, 128)               692352    \n",
      "                                                                 \n",
      " dropout_1 (Dropout)         (None, 128)               0         \n",
      "                                                                 \n",
      " dense_1 (Dense)             (None, 5)                 645       \n",
      "                                                                 \n",
      "=================================================================\n",
      "Total params: 702,565\n",
      "Trainable params: 702,565\n",
      "Non-trainable params: 0\n",
      "_________________________________________________________________\n"
     ]
    }
   ],
   "source": [
    "model1 = Sequential(feature_layers + classification_layers)\n",
    "model1.summary()"
   ]
  },
  {
   "cell_type": "markdown",
   "id": "7d83b012",
   "metadata": {},
   "source": [
    "##### 7. Create a function train model"
   ]
  },
  {
   "cell_type": "code",
   "execution_count": 9,
   "id": "5321293e",
   "metadata": {},
   "outputs": [],
   "source": [
    "def train_model1(model1,train,test,num_classes):\n",
    "    train[0] = train[0].reshape(train[0].shape[0],img_rows,img_cols,1)\n",
    "    test[0] = test[0].reshape(test[0].shape[0],img_rows,img_cols,1)\n",
    "    train[0] = train[0].astype('float32')\n",
    "    test[0] = test[0].astype('float32')\n",
    "\n",
    "    train[0] /= 255\n",
    "    test[0] /= 255\n",
    "    print(train[0].shape)\n",
    "    print(test[0].shape)\n",
    "    s = pd.Series(train[1])\n",
    "    train[1] = pd.get_dummies(s)\n",
    "    train[1] = train[1].values\n",
    "    s = pd.Series(test[1])\n",
    "    test[1] = pd.get_dummies(s)\n",
    "    test[1] = test[1].values\n",
    "    \n",
    "    model1.compile(optimizer='adadelta',loss='categorical_crossentropy',metrics=['accuracy'])\n",
    "    train_start_time=now()\n",
    "    model1.fit(train[0],train[1],epochs=epochs,verbose=2)\n",
    "\n",
    "    print('\\n')\n",
    "    print('--------------------------------------------------------------------------------')\n",
    "    print('\\n')\n",
    "\n",
    "    print('Training time: %s' % (now() - train_start_time))\n",
    "\n",
    "    score=model1.evaluate(test[0],test[1],verbose=0)\n",
    "\n",
    "    print('test loss ',score[0])\n",
    "    print('test accuracy ',score[1])"
   ]
  },
  {
   "cell_type": "markdown",
   "id": "6a185a6b",
   "metadata": {},
   "source": [
    "##### 8. Training on digits 5 to 9"
   ]
  },
  {
   "cell_type": "code",
   "execution_count": 10,
   "id": "a86df5a9",
   "metadata": {},
   "outputs": [],
   "source": [
    "import numpy as np\n",
    "import pandas as pd"
   ]
  },
  {
   "cell_type": "code",
   "execution_count": 11,
   "id": "05471847",
   "metadata": {},
   "outputs": [
    {
     "name": "stdout",
     "output_type": "stream",
     "text": [
      "(29404, 28, 28, 1)\n",
      "(4861, 28, 28, 1)\n",
      "Epoch 1/5\n",
      "919/919 - 29s - loss: 1.5806 - accuracy: 0.2769 - 29s/epoch - 31ms/step\n",
      "Epoch 2/5\n",
      "919/919 - 27s - loss: 1.5374 - accuracy: 0.3677 - 27s/epoch - 30ms/step\n",
      "Epoch 3/5\n",
      "919/919 - 27s - loss: 1.4861 - accuracy: 0.4526 - 27s/epoch - 30ms/step\n",
      "Epoch 4/5\n",
      "919/919 - 27s - loss: 1.4194 - accuracy: 0.5185 - 27s/epoch - 30ms/step\n",
      "Epoch 5/5\n",
      "919/919 - 27s - loss: 1.3372 - accuracy: 0.5783 - 27s/epoch - 30ms/step\n",
      "\n",
      "\n",
      "--------------------------------------------------------------------------------\n",
      "\n",
      "\n",
      "Training time: 0:02:18.402042\n",
      "test loss  1.226709008216858\n",
      "test accuracy  0.7634231448173523\n"
     ]
    }
   ],
   "source": [
    "train_model1(model1,[x_train_gte5,y_train_gte5],[x_test_gte5,y_test_gte5],num_classes)"
   ]
  },
  {
   "cell_type": "markdown",
   "id": "f4202930",
   "metadata": {},
   "source": [
    "##### 9. Freeze Feature Layers"
   ]
  },
  {
   "cell_type": "code",
   "execution_count": 12,
   "id": "19342792",
   "metadata": {},
   "outputs": [],
   "source": [
    "for l in feature_layers:\n",
    "    l.trainable = False"
   ]
  },
  {
   "cell_type": "markdown",
   "id": "8bf2d5cc",
   "metadata": {},
   "source": [
    "##### 10. Print Summary"
   ]
  },
  {
   "cell_type": "code",
   "execution_count": 13,
   "id": "36dfc1f2",
   "metadata": {},
   "outputs": [
    {
     "name": "stdout",
     "output_type": "stream",
     "text": [
      "Model: \"sequential_1\"\n",
      "_________________________________________________________________\n",
      " Layer (type)                Output Shape              Param #   \n",
      "=================================================================\n",
      " conv2d (Conv2D)             (None, 28, 28, 32)        320       \n",
      "                                                                 \n",
      " conv2d_1 (Conv2D)           (None, 26, 26, 32)        9248      \n",
      "                                                                 \n",
      " max_pooling2d (MaxPooling2D  (None, 13, 13, 32)       0         \n",
      " )                                                               \n",
      "                                                                 \n",
      " dropout (Dropout)           (None, 13, 13, 32)        0         \n",
      "                                                                 \n",
      " flatten (Flatten)           (None, 5408)              0         \n",
      "                                                                 \n",
      " dense (Dense)               (None, 128)               692352    \n",
      "                                                                 \n",
      " dropout_1 (Dropout)         (None, 128)               0         \n",
      "                                                                 \n",
      " dense_1 (Dense)             (None, 5)                 645       \n",
      "                                                                 \n",
      "=================================================================\n",
      "Total params: 702,565\n",
      "Trainable params: 692,997\n",
      "Non-trainable params: 9,568\n",
      "_________________________________________________________________\n"
     ]
    }
   ],
   "source": [
    "model1.summary()"
   ]
  },
  {
   "cell_type": "markdown",
   "id": "ed8f4b97",
   "metadata": {},
   "source": [
    "##### 11. Training for digits 0 to 4 based on digits 5 to 9"
   ]
  },
  {
   "cell_type": "code",
   "execution_count": 14,
   "id": "49fdbfe6",
   "metadata": {},
   "outputs": [
    {
     "name": "stdout",
     "output_type": "stream",
     "text": [
      "(30596, 28, 28, 1)\n",
      "(5139, 28, 28, 1)\n",
      "Epoch 1/5\n",
      "957/957 - 12s - loss: 1.5314 - accuracy: 0.3444 - 12s/epoch - 13ms/step\n",
      "Epoch 2/5\n",
      "957/957 - 12s - loss: 1.4198 - accuracy: 0.4648 - 12s/epoch - 12ms/step\n",
      "Epoch 3/5\n",
      "957/957 - 12s - loss: 1.3239 - accuracy: 0.5659 - 12s/epoch - 12ms/step\n",
      "Epoch 4/5\n",
      "957/957 - 12s - loss: 1.2285 - accuracy: 0.6551 - 12s/epoch - 12ms/step\n",
      "Epoch 5/5\n",
      "957/957 - 12s - loss: 1.1392 - accuracy: 0.7257 - 12s/epoch - 13ms/step\n",
      "\n",
      "\n",
      "--------------------------------------------------------------------------------\n",
      "\n",
      "\n",
      "Training time: 0:00:59.628315\n",
      "test loss  1.017417550086975\n",
      "test accuracy  0.8764351010322571\n"
     ]
    }
   ],
   "source": [
    "train_model1(model1,[x_train_1t5, y_train_1t5],[x_test_1t5, y_test_1t5], num_classes)"
   ]
  },
  {
   "cell_type": "markdown",
   "id": "c1073914",
   "metadata": {},
   "source": [
    "##### 12. Reversing the training process"
   ]
  },
  {
   "cell_type": "code",
   "execution_count": 15,
   "id": "34b0875b",
   "metadata": {},
   "outputs": [],
   "source": [
    "INPUT_SHAPE = (img_rows,img_cols,1)\n",
    "feature_layers=[Conv2D(filters=filters,kernel_size=kernel_size,activation='relu',input_shape=Input_Shape),\n",
    "                 Conv2D(filters=filters,kernel_size=kernel_size,activation='relu',input_shape=Input_Shape),\n",
    "                 MaxPooling2D(pool_size=pool_size),\n",
    "                 Dropout(0.25),\n",
    "                 Flatten()]\n",
    "\n",
    "classification_layers = [Dense(128,activation='relu'),Dropout(0.5),Dense(5,activation='softmax')] "
   ]
  },
  {
   "cell_type": "code",
   "execution_count": 16,
   "id": "f2eb7a13",
   "metadata": {},
   "outputs": [
    {
     "name": "stdout",
     "output_type": "stream",
     "text": [
      "Model: \"sequential_2\"\n",
      "_________________________________________________________________\n",
      " Layer (type)                Output Shape              Param #   \n",
      "=================================================================\n",
      " conv2d_2 (Conv2D)           (None, 26, 26, 32)        320       \n",
      "                                                                 \n",
      " conv2d_3 (Conv2D)           (None, 24, 24, 32)        9248      \n",
      "                                                                 \n",
      " max_pooling2d_1 (MaxPooling  (None, 12, 12, 32)       0         \n",
      " 2D)                                                             \n",
      "                                                                 \n",
      " dropout_2 (Dropout)         (None, 12, 12, 32)        0         \n",
      "                                                                 \n",
      " flatten_1 (Flatten)         (None, 4608)              0         \n",
      "                                                                 \n",
      " dense_2 (Dense)             (None, 128)               589952    \n",
      "                                                                 \n",
      " dropout_3 (Dropout)         (None, 128)               0         \n",
      "                                                                 \n",
      " dense_3 (Dense)             (None, 5)                 645       \n",
      "                                                                 \n",
      "=================================================================\n",
      "Total params: 600,165\n",
      "Trainable params: 600,165\n",
      "Non-trainable params: 0\n",
      "_________________________________________________________________\n"
     ]
    }
   ],
   "source": [
    "modelReverse = Sequential(feature_layers+classification_layers)\n",
    "modelReverse.summary()"
   ]
  },
  {
   "cell_type": "code",
   "execution_count": 17,
   "id": "d056ec81",
   "metadata": {},
   "outputs": [
    {
     "name": "stdout",
     "output_type": "stream",
     "text": [
      "(30596, 28, 28, 1)\n",
      "(5139, 28, 28, 1)\n",
      "Epoch 1/5\n",
      "957/957 - 27s - loss: 1.5787 - accuracy: 0.2934 - 27s/epoch - 28ms/step\n",
      "Epoch 2/5\n",
      "957/957 - 26s - loss: 1.4798 - accuracy: 0.5289 - 26s/epoch - 27ms/step\n",
      "Epoch 3/5\n",
      "957/957 - 25s - loss: 1.3421 - accuracy: 0.6753 - 25s/epoch - 27ms/step\n",
      "Epoch 4/5\n",
      "957/957 - 25s - loss: 1.1548 - accuracy: 0.7574 - 25s/epoch - 26ms/step\n",
      "Epoch 5/5\n",
      "957/957 - 26s - loss: 0.9398 - accuracy: 0.8130 - 26s/epoch - 27ms/step\n",
      "\n",
      "\n",
      "--------------------------------------------------------------------------------\n",
      "\n",
      "\n",
      "Training time: 0:02:09.627054\n",
      "test loss  0.744502604007721\n",
      "test accuracy  0.9264448285102844\n"
     ]
    }
   ],
   "source": [
    "train_model1(modelReverse,[x_train_1t5,y_train_1t5],[x_test_1t5,y_test_1t5],num_classes)"
   ]
  },
  {
   "cell_type": "code",
   "execution_count": 18,
   "id": "5af8859e",
   "metadata": {},
   "outputs": [],
   "source": [
    "for l in feature_layers:\n",
    "    l.trainable = False"
   ]
  },
  {
   "cell_type": "code",
   "execution_count": 19,
   "id": "27249a90",
   "metadata": {},
   "outputs": [
    {
     "name": "stdout",
     "output_type": "stream",
     "text": [
      "Model: \"sequential_2\"\n",
      "_________________________________________________________________\n",
      " Layer (type)                Output Shape              Param #   \n",
      "=================================================================\n",
      " conv2d_2 (Conv2D)           (None, 26, 26, 32)        320       \n",
      "                                                                 \n",
      " conv2d_3 (Conv2D)           (None, 24, 24, 32)        9248      \n",
      "                                                                 \n",
      " max_pooling2d_1 (MaxPooling  (None, 12, 12, 32)       0         \n",
      " 2D)                                                             \n",
      "                                                                 \n",
      " dropout_2 (Dropout)         (None, 12, 12, 32)        0         \n",
      "                                                                 \n",
      " flatten_1 (Flatten)         (None, 4608)              0         \n",
      "                                                                 \n",
      " dense_2 (Dense)             (None, 128)               589952    \n",
      "                                                                 \n",
      " dropout_3 (Dropout)         (None, 128)               0         \n",
      "                                                                 \n",
      " dense_3 (Dense)             (None, 5)                 645       \n",
      "                                                                 \n",
      "=================================================================\n",
      "Total params: 600,165\n",
      "Trainable params: 590,597\n",
      "Non-trainable params: 9,568\n",
      "_________________________________________________________________\n"
     ]
    }
   ],
   "source": [
    "modelReverse.summary()"
   ]
  },
  {
   "cell_type": "code",
   "execution_count": 20,
   "id": "31e92e30",
   "metadata": {},
   "outputs": [
    {
     "name": "stdout",
     "output_type": "stream",
     "text": [
      "(29404, 28, 28, 1)\n",
      "(4861, 28, 28, 1)\n",
      "Epoch 1/5\n",
      "919/919 - 10s - loss: 1.6021 - accuracy: 0.3159 - 10s/epoch - 11ms/step\n",
      "Epoch 2/5\n",
      "919/919 - 10s - loss: 1.4153 - accuracy: 0.4123 - 10s/epoch - 11ms/step\n",
      "Epoch 3/5\n",
      "919/919 - 10s - loss: 1.2621 - accuracy: 0.5242 - 10s/epoch - 11ms/step\n",
      "Epoch 4/5\n",
      "919/919 - 10s - loss: 1.1390 - accuracy: 0.6151 - 10s/epoch - 11ms/step\n",
      "Epoch 5/5\n",
      "919/919 - 10s - loss: 1.0361 - accuracy: 0.6776 - 10s/epoch - 11ms/step\n",
      "\n",
      "\n",
      "--------------------------------------------------------------------------------\n",
      "\n",
      "\n",
      "Training time: 0:00:52.240193\n",
      "test loss  0.9111851453781128\n",
      "test accuracy  0.7881094217300415\n"
     ]
    }
   ],
   "source": [
    "train_model1(modelReverse,[x_train_gte5,y_train_gte5],[x_test_gte5,y_test_gte5],num_classes)"
   ]
  },
  {
   "cell_type": "markdown",
   "id": "17b67b75",
   "metadata": {},
   "source": [
    "## CASE 1 : Digits 5-9 is trained then last layer of network trained on Digit 0-4 \n",
    "\n",
    "### Digit 5-9 : \n",
    "\n",
    "Training time: 0:01:45.134918\n",
    "\n",
    "test loss  1.2558680772781372\n",
    "\n",
    "test accuracy  0.7595145106315613\n",
    "\n",
    "\n",
    "\n",
    "### Digit 0-4 : \n",
    "\n",
    "Training time: 0:00:24.913844\n",
    "\n",
    "test loss  0.9772664904594421\n",
    "\n",
    "test accuracy  0.8803269267082214\n",
    "\n"
   ]
  },
  {
   "cell_type": "markdown",
   "id": "2c6de2f0",
   "metadata": {},
   "source": [
    "## CASE 2 : Digits 0-4 is trained then last layer of network trained on Digit 5-9\n",
    "\n",
    "### Digit 0-4 :\n",
    "\n",
    "Training time: 0:00:21.262768\n",
    "\n",
    "test loss  0.7906395196914673\n",
    "\n",
    "test accuracy  0.8111499547958374\n",
    "\n",
    "\n",
    "### Digit 5-9: \n",
    "\n",
    "Training time: 0:01:34.288307\n",
    "\n",
    "test loss  0.601348876953125\n",
    "\n",
    "test accuracy  0.935785174369812\n"
   ]
  },
  {
   "cell_type": "code",
   "execution_count": null,
   "id": "16be9540",
   "metadata": {},
   "outputs": [],
   "source": []
  }
 ],
 "metadata": {
  "kernelspec": {
   "display_name": "Python 3 (ipykernel)",
   "language": "python",
   "name": "python3"
  },
  "language_info": {
   "codemirror_mode": {
    "name": "ipython",
    "version": 3
   },
   "file_extension": ".py",
   "mimetype": "text/x-python",
   "name": "python",
   "nbconvert_exporter": "python",
   "pygments_lexer": "ipython3",
   "version": "3.9.12"
  }
 },
 "nbformat": 4,
 "nbformat_minor": 5
}
